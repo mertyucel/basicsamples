{
 "cells": [
  {
   "cell_type": "markdown",
   "metadata": {},
   "source": [
    "### Problem 4\n",
    "\n",
    "Şimdi de geometrik şekil hesaplama işlemi yapalım. İlk olarak kullanıcıdan üçgenin mi dörtgenin mi tipini bulmak istediğini sorun. \n",
    "\n",
    "Eğer kullanıcı \"Dörtgen\" cevabını verirse ,  4 tane kenar isteyip bu dörtgenin kare mi , dikdörtgen mi yoksa sıradan bir dörtgen mi olduğunu bulmaya çalışın.\n",
    "\n",
    "Eğer kullanıcı \"Üçgen\" cevabını verirse ,  3 tane kenar isteyip bu üçgenin ikizkenar mı , eşkenar mı yoksa sıradan bir üçgen mi olduğunu bulmaya çalışın. Eğer verilen kenarlar bir üçgen belirtmiyorsa, ekrana \"Üçgen belirtmiyor\" şeklinde bir yazı yazın.o\n",
    "\n",
    "*Üçgen belirtme şartını bilmiyorsunuz internetten bakabilirsiniz.*\n",
    "\n",
    "*Ayrıca , bu problemde mutlak değer bulmaya ihtiyacınız olacak. Bunun için, Pythonda hazır bir fonksiyon olan abs() fonksiyonunu kullanabilirsiniz. Kullanımı şu şekildedir ;*\n",
    "\n",
    "\n",
    "\n",
    "\n"
   ]
  },
  {
   "cell_type": "code",
   "execution_count": 1,
   "metadata": {},
   "outputs": [
    {
     "name": "stdout",
     "output_type": "stream",
     "text": [
      "Lütfen kenarları sırayla giriniz...\n",
      "Bu bir dikdörtgendir...\n"
     ]
    }
   ],
   "source": [
    "şekil = input(\"Şekil giriniz.. (Üçgen yada Dörtgen)\")\n",
    "\n",
    "if (şekil == \"dörtgen\"):\n",
    "    print(\"Lütfen kenarları sırayla giriniz...\")\n",
    "    a = int(input(\"Kenar 1 giriniz...\"))\n",
    "    b = int(input(\"Kenar 2 giriniz...\"))\n",
    "    c = int(input(\"Kenar 3 giriniz...\"))\n",
    "    d = int(input(\"Kenar 4 giriniz...\"))\n",
    "\n",
    "    if(a == b and a == c and a == d):\n",
    "        print(\"Bu bir karedir...\")\n",
    "    elif((a == c and b==d) or (a == b and c==d) or (a ==d and b == c)):\n",
    "        print(\"Bu bir dikdörtgendir...\")\n",
    "    else:\n",
    "        print(\"Bu bir dörtgendir...\")\n",
    "\n",
    "elif (şekil == \"üçgen\"):\n",
    "    print(\"Lütfen kenarları sırayla giriniz...\")\n",
    "    a = int(input(\"Kenar 1 giriniz...\"))  \n",
    "    b = int(input(\"Kenar 2 giriniz...\"))\n",
    "    c = int(input(\"Kenar 3 giriniz...\"))\n",
    "\n",
    "    if ( (abs(a-b) < c and c < a+b) and (abs(a-c) < b and b < a+c) and (abs(b-c) < a and a < b+c)):\n",
    "        \n",
    "        print(\"Bu bir üçgendir...\")      \n",
    "\n",
    "        if(a == b and a == c):\n",
    "\n",
    "         print(\"Bu bir eşit kenar üçgendir...\")  \n",
    "\n",
    "        elif( (a == b and a != c) or (a == c and a != b ) or (b == c and b!= a)):\n",
    "            print(\"Bu bir ikizkenar üçgendir...\")\n",
    "        else:\n",
    "            print(\"Bu bir çeşit kenar üçgendir...\")      \n",
    "            \n",
    "    else:\n",
    "        print(\"Bu bir üçgen değildir...\")      \n",
    "\n",
    "else:\n",
    "    print(\"Geçerli şekil giriniz...\")"
   ]
  }
 ],
 "metadata": {
  "interpreter": {
   "hash": "aee8b7b246df8f9039afb4144a1f6fd8d2ca17a180786b69acc140d282b71a49"
  },
  "kernelspec": {
   "display_name": "Python 3.9.7 64-bit",
   "language": "python",
   "name": "python3"
  },
  "language_info": {
   "name": "python",
   "version": "3.9.7"
  },
  "orig_nbformat": 4
 },
 "nbformat": 4,
 "nbformat_minor": 2
}
