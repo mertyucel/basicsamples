{
 "cells": [
  {
   "cell_type": "markdown",
   "metadata": {},
   "source": [
    "## İleri Seviye Veri Yapıları ve Objeler\n",
    "\n",
    "### Problem 1\n",
    "\n",
    "Elinizde uzunca bir string olsun. \n",
    "\n",
    "                \"ProgramlamaÖdeviİleriSeviyeVeriYapılarıveObjeleripynb\"\n",
    "                \n",
    "                \n",
    "Bu string içindeki harflerin frekansını (bir harfin kaç defa geçtiği) bulmaya çalışın.\n",
    "\n",
    "***İpucu : Kodlama egzersizimizde buna çok benzer bir şey yapmıştık.***\n",
    "\n",
    "\n"
   ]
  },
  {
   "cell_type": "code",
   "execution_count": 2,
   "metadata": {},
   "outputs": [
    {
     "name": "stdout",
     "output_type": "stream",
     "text": [
      "P kelimesi 1 defa geçiyor\n",
      "----------\n",
      "r kelimesi 6 defa geçiyor\n",
      "----------\n",
      "o kelimesi 1 defa geçiyor\n",
      "----------\n",
      "g kelimesi 1 defa geçiyor\n",
      "----------\n",
      "a kelimesi 5 defa geçiyor\n",
      "----------\n",
      "m kelimesi 2 defa geçiyor\n",
      "----------\n",
      "l kelimesi 4 defa geçiyor\n",
      "----------\n",
      "Ö kelimesi 1 defa geçiyor\n",
      "----------\n",
      "d kelimesi 1 defa geçiyor\n",
      "----------\n",
      "e kelimesi 8 defa geçiyor\n",
      "----------\n",
      "v kelimesi 3 defa geçiyor\n",
      "----------\n",
      "i kelimesi 5 defa geçiyor\n",
      "----------\n",
      "İ kelimesi 1 defa geçiyor\n",
      "----------\n",
      "S kelimesi 1 defa geçiyor\n",
      "----------\n",
      "y kelimesi 2 defa geçiyor\n",
      "----------\n",
      "V kelimesi 1 defa geçiyor\n",
      "----------\n",
      "Y kelimesi 1 defa geçiyor\n",
      "----------\n",
      "p kelimesi 2 defa geçiyor\n",
      "----------\n",
      "ı kelimesi 2 defa geçiyor\n",
      "----------\n",
      "O kelimesi 1 defa geçiyor\n",
      "----------\n",
      "b kelimesi 2 defa geçiyor\n",
      "----------\n",
      "j kelimesi 1 defa geçiyor\n",
      "----------\n",
      "n kelimesi 1 defa geçiyor\n",
      "----------\n"
     ]
    }
   ],
   "source": [
    "kelime1 = \"ProgramlamaÖdeviİleriSeviyeVeriYapılarıveObjeleripynb\"\n",
    "\n",
    "kelime_sozluk = dict()\n",
    "\n",
    "for i in kelime1:\n",
    "    if (i in kelime_sozluk):\n",
    "        kelime_sozluk[i] += 1\n",
    "    else:\n",
    "        kelime_sozluk[i] = 1\n",
    "\n",
    "for harf,sayı in kelime_sozluk.items():\n",
    "            print(\"{} kelimesi {} defa geçiyor\".format(harf,sayı))\n",
    "            print(\"----------\")\n"
   ]
  },
  {
   "cell_type": "markdown",
   "metadata": {},
   "source": [
    "### Problem 2\n",
    "\n",
    "\"şiir.txt\" şeklinde bir dosya oluşturun ve içinde şu satırlar yer alsın.\n",
    "\n",
    "                        Memlekete sis çökmüş bir gece \n",
    "                        Usulca yanağıma sen düşüyorsun\n",
    "                        Sabah saat dokuzu beş geçe\n",
    "                        Terk edip bizleri gidiyorsun\n",
    "                        Ayrılık bu kadar yakmamıştı içimizi\n",
    "                        Farkında mısın bilmiyorum\n",
    "                        Aldın beraberinde cumhuriyetimizi\n",
    "                        Korkunç bir veda, sararmıştı her yer\n",
    "                        Ellerini uzat tutmak istiyoruz\n",
    "                        Masmavi gözleri kaybetmiş çocuk\n",
    "                        Aldı bir sabah ruhumuzu\n",
    "                        Lakin nasıl bölmesin yokluğun uykumuzu\n",
    "\n",
    "Bu dosyanın herbir satırını okuyun. Satırların baş harflerini birbirine ekleyerek bir string oluşturun ve bu string'i ekrana yazdırın."
   ]
  },
  {
   "cell_type": "code",
   "execution_count": 1,
   "metadata": {},
   "outputs": [
    {
     "name": "stdout",
     "output_type": "stream",
     "text": [
      "MUSTAFAKEMAL\n"
     ]
    }
   ],
   "source": [
    "with open(\"şiir.txt\",\"r\",encoding=\"utf-8\") as file:\n",
    "\n",
    "    dosya = file.read()\n",
    "    satır = dosya.split(\"\\n\")\n",
    "    kelime = str()\n",
    "    for i in satır:\n",
    "        kelime += i[0]\n",
    "\n",
    "    print(kelime)"
   ]
  },
  {
   "cell_type": "markdown",
   "metadata": {},
   "source": [
    "### Problem 3\n",
    "\n",
    "Elinizde \"mailler.txt\" adında , maillerin ve bazı yazıların bulunduğu bir dosya olsun. Bu dosyanın her bir satırını okuyun ve sadece mail formatına uygun olanları ekrana yazdırın.\n",
    "\n",
    "                        coskun.m.murat@gmail.com\n",
    "                        example@xyz.com\n",
    "                        mustafa.com\n",
    "                        mustafa@gmail\n",
    "                        kerim@yahoo.com\n",
    "                        \n",
    "                               //\n",
    "                               //\n",
    "                               //\n",
    "                               \n",
    "                        \n",
    "***İpucu: Stringlerde bulunan endswith ve find metodlarını kullanabilirsiniz.***                        "
   ]
  },
  {
   "cell_type": "code",
   "execution_count": 14,
   "metadata": {},
   "outputs": [
    {
     "name": "stdout",
     "output_type": "stream",
     "text": [
      "coskun.m.murat@gmail.com\n",
      "example@xyz.com\n",
      "kerim@yahoo.com\n"
     ]
    }
   ],
   "source": [
    "with open(\"mailler.txt\",\"r\",encoding=\"utf-8\") as file:\n",
    "    dosya = file.read()\n",
    "    satır = dosya.split(\"\\n\")\n",
    "\n",
    "    for i in satır:\n",
    "        if(i.endswith(\".com\") and i.find(\"@\") != -1):\n",
    "                print(i)"
   ]
  },
  {
   "cell_type": "markdown",
   "metadata": {},
   "source": [
    "### Problem 4\n",
    "\n",
    "Elinizde 2 tane liste bulunsun. Bu listelerden isim ve soyisimleri birleştirerek , ekrana isim ve soyisimleri ***isimlere*** göre sıralı bir şekilde yazdırmaya çalışın.\n",
    "\n",
    "            isim -----> [\"Kerim\",\"Tarık\",\"Ezgi\",\"Kemal\",\"İlkay\",\"Şükran\",\"Merve\"]\n",
    "\n",
    "            soyisim ------> [\"Yılmaz\",\"Öztürk\",\"Dağdeviren\",\"Atatürk\",\"Dikmen\",\"Kaya\",\"Polat\"]\n",
    "            "
   ]
  },
  {
   "cell_type": "code",
   "execution_count": 24,
   "metadata": {
    "collapsed": true
   },
   "outputs": [
    {
     "name": "stdout",
     "output_type": "stream",
     "text": [
      "Ezgi Dağdeviren\n",
      "Kemal Atatürk\n",
      "Kerim Yılmaz\n",
      "Merve Polat\n",
      "Tarık Öztürk\n",
      "İlkay Dikmen\n",
      "Şükran Kaya\n"
     ]
    }
   ],
   "source": [
    "isim = [\"Kerim\",\"Tarık\",\"Ezgi\",\"Kemal\",\"İlkay\",\"Şükran\",\"Merve\"]\n",
    "soyisim = [\"Yılmaz\",\"Öztürk\",\"Dağdeviren\",\"Atatürk\",\"Dikmen\",\"Kaya\",\"Polat\"]\n",
    "\n",
    "liste = list(zip(isim,soyisim))\n",
    "liste.sort()\n",
    "\n",
    "for isim,soyisim in liste:\n",
    "    print(isim,soyisim)\n"
   ]
  }
 ],
 "metadata": {
  "kernelspec": {
   "display_name": "Python 3",
   "language": "python",
   "name": "python3"
  },
  "language_info": {
   "codemirror_mode": {
    "name": "ipython",
    "version": 3
   },
   "file_extension": ".py",
   "mimetype": "text/x-python",
   "name": "python",
   "nbconvert_exporter": "python",
   "pygments_lexer": "ipython3",
   "version": "3.9.7"
  }
 },
 "nbformat": 4,
 "nbformat_minor": 2
}
